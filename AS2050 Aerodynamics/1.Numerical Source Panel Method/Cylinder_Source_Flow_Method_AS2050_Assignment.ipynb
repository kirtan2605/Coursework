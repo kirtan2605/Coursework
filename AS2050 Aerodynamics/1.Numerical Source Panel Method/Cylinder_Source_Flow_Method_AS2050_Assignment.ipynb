{
  "nbformat": 4,
  "nbformat_minor": 0,
  "metadata": {
    "kernelspec": {
      "language": "python",
      "display_name": "Python 3",
      "name": "python3"
    },
    "language_info": {
      "pygments_lexer": "ipython3",
      "nbconvert_exporter": "python",
      "version": "3.6.4",
      "file_extension": ".py",
      "codemirror_mode": {
        "name": "ipython",
        "version": 3
      },
      "name": "python",
      "mimetype": "text/x-python"
    },
    "colab": {
      "name": "Cylinder-Source_Flow_Method-AS2050-Assignment.ipynb",
      "provenance": [],
      "collapsed_sections": []
    }
  },
  "cells": [
    {
      "cell_type": "code",
      "metadata": {
        "_uuid": "8f2839f25d086af736a60e9eeb907d3b93b6e0e5",
        "_cell_guid": "b1076dfc-b9ad-4769-8c92-a6c4dae69d19",
        "trusted": true,
        "id": "3PSk3Z5KRt88"
      },
      "source": [
        "# Written by: Kirtan Patel AE19B038\n",
        "#\n",
        "# PURPOSE\n",
        "# - Compute the integral expression for constant strength source panels\n",
        "# - Source panel strengths are constant, but can change from panel to panel\n",
        "# - Geometric integral for panel-normal    : I(ij)\n",
        "# - Geometric integral for panel-tangential: J(ij)\n",
        "# - Compute the Pressure Coefficient at control points of the panels\n",
        "#\n",
        "# INPUTS\n",
        "# - numP   : Number of panels in which we divide the surface\n",
        "# \n",
        "# OUTPUTS\n",
        "# - Pressure Coefficient at control points of the panels\n",
        "\n",
        "import numpy as np\n",
        "import math as math"
      ],
      "execution_count": 125,
      "outputs": []
    },
    {
      "cell_type": "markdown",
      "metadata": {
        "id": "0PhqutirT8z5"
      },
      "source": [
        "Then we define the known parameters. <br /> \n",
        "In our case, the Angle of Attack(AoA) is irrelevent since a cylinder cross section as infinite symmetries"
      ]
    },
    {
      "cell_type": "code",
      "metadata": {
        "trusted": true,
        "id": "E35-E2P-Rt9N"
      },
      "source": [
        "R = 1                                # Radius of the Cylinder\n",
        "Vinf = 1                             # Freestream velocity\n",
        "AoA  = 0                             # Angle of attack [deg]\n",
        "numP = 12                            # Number of Panels (control points)\n",
        "AoAR = np.radians(AoA)               # Convert AoA to radians [rad]"
      ],
      "execution_count": 126,
      "outputs": []
    },
    {
      "cell_type": "markdown",
      "metadata": {
        "id": "pWsTeykGTRJN"
      },
      "source": [
        "To Compute the values of panel source strengths $\\lambda$<sub>i</sub> , We need to calculate the integrals I<sub>i,j</sub> and J<sub>i,j</sub>. These are dependent only on the geometry of the object in the flow field."
      ]
    },
    {
      "cell_type": "code",
      "metadata": {
        "id": "wvFeYQeYY2Z2"
      },
      "source": [
        "# %% CREATE CIRCLE BOUNDARY POINTS\n",
        "\n",
        "# Angles used to compute boundary points (for n panels, we need n+1 boundary points)\n",
        "# Create angles for computing boundary point locations [deg]\n",
        "theta = np.linspace(0,360,num = numP+1)      \n",
        "theta = np.radians(theta)                    # Convert from degrees to radians [rad]"
      ],
      "execution_count": 127,
      "outputs": []
    },
    {
      "cell_type": "markdown",
      "metadata": {
        "id": "7FyuL8ywY47a"
      },
      "source": [
        "Computed boundary point coordinates are returned in *anticlockwise* direction <br />\n",
        "This orientation causes the normal to the surface to point inward (inside the body) <br />\n",
        "Since we dont want that, we reverse the co-ordinated to get panels in *clockwise* orientation, with outward normal\n"
      ]
    },
    {
      "cell_type": "code",
      "metadata": {
        "id": "Kx5St6bMZdH-"
      },
      "source": [
        "# Reversing boundary points to get an outward normal.\n",
        "XB_aclck = R*np.cos(theta)                  \n",
        "YB_aclck = R*np.sin(theta)                  \n",
        "\n",
        "XB = XB_aclck[::-1]           \n",
        "YB = YB_aclck[::-1]\n"
      ],
      "execution_count": 128,
      "outputs": []
    },
    {
      "cell_type": "markdown",
      "metadata": {
        "id": "qh54t9YBZhOR"
      },
      "source": [
        "We then find the other Geomtrical Characteristic Features of the Panel Geometry"
      ]
    },
    {
      "cell_type": "code",
      "metadata": {
        "id": "cHpSBF9yTQv2"
      },
      "source": [
        "# %% PANEL METHOD GEOMETRY\n",
        "\n",
        "# Initialize variables\n",
        "XC  = np.zeros(numP)                # Initialize control point coordinates arrays\n",
        "YC  = np.zeros(numP)                \n",
        "S   = np.zeros(numP)                # Initialize panel length array\n",
        "phi = np.zeros(numP)                # Initialize panel orientation angle array\n",
        "\n",
        "# Find geometric quantities of the airfoil\n",
        "for i in range(numP):                         # Loop over all panels\n",
        "    XC[i]   = 0.5*(XB[i]+XB[i+1])             # values of control point\n",
        "    YC[i]   = 0.5*(YB[i]+YB[i+1])             \n",
        "    dx      = XB[i+1]-XB[i]                   # Change between boundary points\n",
        "    dy      = YB[i+1]-YB[i]                   \n",
        "    S[i]    = (dx**2 + dy**2)**0.5            # Length of the panel\n",
        "    phi[i]  = math.atan2(dy,dx)               # Angle of panel \n",
        "    if (phi[i] < 0):                          # Make all panel angles positive [rad]\n",
        "        phi[i] = phi[i] + 2*np.pi\n",
        "        "
      ],
      "execution_count": 129,
      "outputs": []
    },
    {
      "cell_type": "code",
      "metadata": {
        "trusted": true,
        "colab": {
          "base_uri": "https://localhost:8080/",
          "height": 282
        },
        "id": "m5nwMCWYRt9P",
        "outputId": "9743cbe8-e783-4d14-8f57-78732db1dc63"
      },
      "source": [
        "# To check the geometry created of the object in the flow, we plot it\n",
        "import matplotlib.pyplot as plt\n",
        "plt.plot(XB,YB)   #plots boundary points\n",
        "plt.plot(XC,YC)   #plots control points"
      ],
      "execution_count": 130,
      "outputs": [
        {
          "output_type": "execute_result",
          "data": {
            "text/plain": [
              "[<matplotlib.lines.Line2D at 0x7fba8b866390>]"
            ]
          },
          "metadata": {
            "tags": []
          },
          "execution_count": 130
        },
        {
          "output_type": "display_data",
          "data": {
            "image/png": "[encoded data removed]",
            "text/plain": [
              "<Figure size 432x288 with 1 Axes>"
            ]
          },
          "metadata": {
            "tags": [],
            "needs_background": "light"
          }
        }
      ]
    },
    {
      "cell_type": "markdown",
      "metadata": {
        "id": "zfTTvWn9ce6f"
      },
      "source": [
        "Now that we have the object parameters, calculating the integrals I<sub>i,j</sub> and J<sub>i,j</sub>.  <br />\n",
        "This section of the code is inspired from the solved example in the book : <br />\n",
        "$$ Fundamentals~of~Aerodynamics - John~D~Anderson $$"
      ]
    },
    {
      "cell_type": "code",
      "metadata": {
        "trusted": true,
        "id": "yj3G2jloRt9T"
      },
      "source": [
        "# Initialize arrays\n",
        "I = np.zeros([numP,numP])         # Initialize I integral matrix\n",
        "J = np.zeros([numP,numP])         # Initialize J integral matrix\n",
        " \n",
        "# Computing integral by looping over panels\n",
        "for i in range(numP):                                                         \n",
        "    for j in range(numP):                                                       \n",
        "        if (j != i):                                                            \n",
        "            # Compute intermediate values\n",
        "            A  = -(XC[i]-XB[j])*np.cos(phi[j])-(YC[i]-YB[j])*np.sin(phi[j])     # A term\n",
        "            B  = (XC[i]-XB[j])**2 + (YC[i]-YB[j])**2                            # B term\n",
        "            C = np.sin(phi[i]-phi[j])                                           # C term \n",
        "            D = (YC[i]-YB[j])*np.cos(phi[i])-(XC[i]-XB[j])*np.sin(phi[i])       # D term \n",
        "            E  = np.sqrt(B-A**2)                                                # E term\n",
        "                                                        \n",
        "            # Zero out any problem values i.e If E term is 0 or complex or a NAN or an INF \n",
        "            if (E == 0 or np.iscomplex(E) or np.isnan(E) or np.isinf(E)):       \n",
        "                 I[i,j] = 0                                                     # Set I value equal to zero\n",
        "                 J[i,j] = 0                                                     # Set J value equal to zero\n",
        "            else:\n",
        "               # Compute I (needed for normal velocity), Ref [1]\n",
        "                term1  = 0.5*C*np.log((S[j]**2 + 2*A*S[j] + B)/B)               # First term in I equation\n",
        "                term2  = ((D-A*C)/E)*(math.atan2((S[j]+A),E)-math.atan2(A,E))   # Second term in I equation\n",
        "                I[i,j] = term1 + term2                                          # Compute I integral\n",
        "                \n",
        "                # Compute J (needed for tangential velocity), Ref [2]\n",
        "                term1  = ((D-A*C)/(2*E))*np.log((S[j]**2 + 2*A*S[j] + B)/B)     # First term in J equation\n",
        "                term2  = ((-1)*C)*(math.atan2((S[j]+A),E)-math.atan2(A,E))      # Second term in J equation\n",
        "                J[i,j] = term1 + term2                                          # Compute J integral\n",
        "              \n",
        "        # Zero out any problem values i.e if term is NON or INF, setting them to zero\n",
        "        if (np.iscomplex(I[i,j]) or np.isnan(I[i,j]) or np.isinf(I[i,j])):      \n",
        "            I[i,j] = 0                                                          \n",
        "        if (np.iscomplex(J[i,j]) or np.isnan(J[i,j]) or np.isinf(J[i,j])):      \n",
        "            J[i,j] = 0                                                          \n",
        "       \n",
        "  #These are values of I and J."
      ],
      "execution_count": 131,
      "outputs": []
    },
    {
      "cell_type": "markdown",
      "metadata": {
        "id": "1XEBghBIehHO"
      },
      "source": [
        "$$Normal~Flow$$\n",
        "From the Boundary Condition that no flow is across the panel, we get the equation :\n",
        "$$ V_{panels,n} + V_{\\infty,n} = 0 $$\n",
        "which gives\n",
        "$$\\sum \\limits _{j=1, j{\\neq}i} ^{n} \\frac{\\lambda_{j}}{2 \\pi} \\int_{j} \\frac{\\partial(ln(r_{ij}))}{\\partial n_i}ds_j ~+~ \\frac{\\lambda_i}{2} ~+~ V_{\\infty} cos(\\beta_i)= 0 $$\n",
        "\n",
        "substituting the integral,\n",
        "\n",
        "$$ I_{ij} ~=~ \\frac{\\lambda_{j}}{2 \\pi} \\int_{j} \\frac{\\partial(ln(r_{ij}))}{\\partial n_i}ds_j $$\n",
        "\n",
        " we get a system of n equations (corresponding to n panels) with n variables ($\\lambda_i$) :\n",
        "$$\\sum \\limits _{j=1, j{\\neq}i} ^{n} \\frac{\\lambda_{j}}{2 \\pi}I_{ij} ~+~ \\frac{\\lambda_i}{2} ~+~ V_{\\infty} cos(\\beta_i)= 0 $$\n",
        "<br />\n",
        "To solve these simultaneously, we use matrices.\n",
        "\n",
        "\n",
        "$$\n",
        "\\left[\\begin{array}{ccc}\n",
        "\\frac{1}{2} & \\frac{I_{12}}{2\\pi}& \\frac{I_{13}}{2\\pi} &..& \\frac{I_{1n}}{2\\pi}\\\\\n",
        "\\frac{I_{12}}{2\\pi} & \\frac{1}{2}& \\frac{I_{13}}{2\\pi}  &..&..\\\\\n",
        "\\frac{I_{13}}{2\\pi}  &\\frac{I_{13}}{2\\pi}  & \\frac{1}{2}  &..&.. \\\\\n",
        " ...  & ... & ... &.. & ..\\\\\n",
        "  ..  & ... & ... &..  & \\frac{1}{2}\\\\\n",
        "\\end{array}\\right]\n",
        "\\left[\\begin{array}{ccc}\n",
        "\\lambda_1 \\\\\n",
        "\\lambda_2 \\\\\n",
        ".. \\\\\n",
        ".. \\\\\n",
        ".. \\\\\n",
        "\\lambda_n \n",
        "\\end{array}\\right]\n",
        "= (-V_{\\infty,n})\n",
        "\\left[\\begin{array}{ccc}\n",
        "cos(\\beta_1) \\\\\n",
        "cos(\\beta_1) \\\\\n",
        ".. \\\\\n",
        ".. \\\\\n",
        ".. \\\\\n",
        "cos(\\beta_n)\n",
        "\\end{array}\\right]\n",
        "$$ \n",
        "\n",
        "which we solve to get the values of strength ($\\lambda_i$) <br/>\n",
        "<br/>\n",
        "$$Tangential~Flow$$\n",
        "\n",
        "With the strength of the sources found, we can find the tangential velocity over the panels\n",
        "\n",
        "$$ V_i =  V_{panels,s} + V_{\\infty,s}$$\n",
        "\n",
        "$$V_i = \\sum \\limits _{j=1, j{\\neq}i} ^{n} \\frac{\\lambda_{j}}{2 \\pi} \\int_{j} \\frac{\\partial(ln(r_{ij}))}{\\partial s_i}ds_j ~+~ V_{\\infty} sin(\\beta_i)$$\n",
        "\n",
        "\n",
        "the $\\lambda_i$ term drops since the self-contribution of the panel is zero in the tangential direction.substituting the integral,\n",
        "\n",
        "$$ J_{ij} ~=~ \\int_{j} \\frac{\\partial(ln(r_{ij}))}{\\partial s_i}ds_j  $$\n",
        "\n",
        "We solve this using matrix multiplication to get $V_i$\n",
        "\n",
        "$$\n",
        "\\left[\\begin{array}{ccc}\n",
        "0 & \\frac{J_{12}}{2\\pi}& \\frac{J_{13}}{2\\pi} &..& \\frac{J_{1n}}{2\\pi}\\\\\n",
        "\\frac{J_{12}}{2\\pi} & 0& \\frac{J_{13}}{2\\pi}  &..&..\\\\\n",
        "\\frac{J_{13}}{2\\pi}  &\\frac{J_{13}}{2\\pi}  & 0  &..&.. \\\\\n",
        " ...  & ... & ... &.. & ..\\\\\n",
        "  ..  & ... & ... &..  & 0\\\\\n",
        "\\end{array}\\right]\n",
        "\\left[\\begin{array}{ccc}\n",
        "\\lambda_1 \\\\\n",
        "\\lambda_2 \\\\\n",
        ".. \\\\\n",
        ".. \\\\\n",
        ".. \\\\\n",
        "\\lambda_n \n",
        "\\end{array}\\right]\n",
        "+ V_{\\infty}\n",
        "\\left[\\begin{array}{ccc}\n",
        "sin(\\beta_1) \\\\\n",
        "sin(\\beta_1) \\\\\n",
        ".. \\\\\n",
        ".. \\\\\n",
        ".. \\\\\n",
        "sin(\\beta_n)\n",
        "\\end{array}\\right]\n",
        "$$ \n",
        "<br/>\n",
        "We can eliminate $\\beta$ from the equation, using the relations we obtain from the geometry of the panels\n",
        "$$ \\beta = \\phi + \\frac{\\pi}{2}$$\n",
        "and hence\n",
        "$$ cos(\\beta) = -sin(\\phi)$$\n",
        "$$ sin(\\beta) = cos(\\phi)$$"
      ]
    },
    {
      "cell_type": "code",
      "metadata": {
        "trusted": true,
        "id": "hZ601q9eRt9T"
      },
      "source": [
        "# Using the above calculated values of I[i,j] and J[i,j],\n",
        "# we form a matrix equation of the system of n equations and n variables (n=numP)\n",
        "mat_I = np.zeros([numP,numP])                                        \n",
        "mat_J = np.zeros([numP,numP])    \n",
        "\n",
        "for i in range(numP):\n",
        "    for j in range(numP):\n",
        "        mat_J[i,j] = (J[i,j])/(2*math.pi)\n",
        "        mat_I[i,j] = (I[i,j])/(2*math.pi)\n",
        "        if(i==j):\n",
        "            mat_I[i,j]=0.5\n",
        "            mat_J[i,j]=0\n",
        "\n",
        "#and the other matrix in the equation\n",
        "b  = np.zeros(numP)                # Initialize control point X-coordinate\n",
        "\n",
        "for i in range(numP):\n",
        "    b[i] = Vinf*math.sin(phi[i])\n",
        "    # to remove precision error\n",
        "    if(-math.pow(10,-15) < b[i] < math.pow(10,-15)):\n",
        "        b[i] = 0"
      ],
      "execution_count": 132,
      "outputs": []
    },
    {
      "cell_type": "code",
      "metadata": {
        "trusted": true,
        "id": "lFfHG7ZGRt9U"
      },
      "source": [
        "# Solving for strength\n",
        "\n",
        "# strength = np.linalg.inv(mat_I).dot(b)\n",
        "strength = np.linalg.solve(mat_I, b)\n",
        "\n",
        "sum=0\n",
        "for i in range(numP):\n",
        "    sum = sum+strength[i]\n",
        "    # to remove precision error\n",
        "    if(-math.pow(10,-15) < strength[i] < math.pow(10,-15)):\n",
        "        strength[i]=0\n",
        "\n",
        "# to remove precision error\n",
        "if(-math.pow(10,-15) < sum < math.pow(10,-15)):\n",
        "    sum =0\n",
        "\n",
        "#for equal area panels, sum of strenghths = 0 . If not, solution is wrong"
      ],
      "execution_count": 133,
      "outputs": []
    },
    {
      "cell_type": "code",
      "metadata": {
        "trusted": true,
        "id": "JsvNMt3dRt9V"
      },
      "source": [
        "# Solving for Vi\n",
        "\n",
        "Vs  = np.zeros(numP)                # Initialize contribution of freestream velocity \n",
        "V  = np.zeros(numP)                 # Initialize velocity over control points\n",
        "Cp  = np.zeros(numP)                # Initialize pressure coefficients over control points\n",
        "\n",
        "\n",
        "for i in range(numP):\n",
        "    Vs[i] = Vinf*math.cos(phi[i])\n",
        "\n",
        "V = np.matmul(mat_J,strength) + Vs"
      ],
      "execution_count": 134,
      "outputs": []
    },
    {
      "cell_type": "markdown",
      "metadata": {
        "id": "A3fxj0qJ3jpw"
      },
      "source": [
        "We obtain the Pressure Coefficient over the panels using the following formula:\n",
        "$$ C_{p,i} = 1 - (\\frac{V_i}{V_{\\infty}})^2$$"
      ]
    },
    {
      "cell_type": "code",
      "metadata": {
        "trusted": true,
        "colab": {
          "base_uri": "https://localhost:8080/",
          "height": 282
        },
        "id": "YYAkhdcoRt9X",
        "outputId": "5a40c2c0-70a5-4c92-c75f-4debd084d33c"
      },
      "source": [
        "# Calculating Pressure Coefficient\n",
        "for i in range(numP):\n",
        "    Cp[i] = 1 - math.pow((V[i]/Vinf),2)\n",
        "\n",
        "\n",
        "angle_control_point = np.zeros(numP)                              # Initialize panel orientation angle array\n",
        "for i in range(numP):\n",
        "    angle_control_point[i]  = math.atan2(YC[i],XC[i])              # Angle of control panel \n",
        "plt.scatter(angle_control_point,Cp)\n",
        "    \n",
        "# Plotting the Analytically obtained Function for reference\n",
        "psi = np.linspace(-math.pi,1*math.pi,10000)\n",
        "function  = np.zeros(10000)                                       # Initialize the Analytical function values \n",
        "\n",
        "for i in range(10000):\n",
        "    function[i] = 1 - 4*math.pow(math.sin(psi[i]),2)\n",
        "    \n",
        "plt.plot(psi,function)"
      ],
      "execution_count": 135,
      "outputs": [
        {
          "output_type": "execute_result",
          "data": {
            "text/plain": [
              "[<matplotlib.lines.Line2D at 0x7fba8b4fa050>]"
            ]
          },
          "metadata": {
            "tags": []
          },
          "execution_count": 135
        },
        {
          "output_type": "display_data",
          "data": {
            "image/png": "[encoded data removed]",
            "text/plain": [
              "<Figure size 432x288 with 1 Axes>"
            ]
          },
          "metadata": {
            "tags": [],
            "needs_background": "light"
          }
        }
      ]
    }
  ]
}